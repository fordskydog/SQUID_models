{
 "cells": [
  {
   "cell_type": "code",
   "execution_count": 1,
   "metadata": {},
   "outputs": [],
   "source": [
    "import numpy as np\n",
    "import matplotlib.pyplot as plt\n",
    "import numpy.fft as fft\n",
    "import scipy.signal as sig"
   ]
  },
  {
   "cell_type": "code",
   "execution_count": 1,
   "metadata": {},
   "outputs": [],
   "source": [
    "def noisyrk4(s,t,tau,derivsRK,i,vN0,vN1,vN2):\n",
    "    \"\"\"modified RK4 integrator including noise\n",
    "    DEPENDENCIES\n",
    "        none\n",
    "    INPUTS\n",
    "        s - initial state vector [delta]\n",
    "        t - time\n",
    "        tau - time step size\n",
    "        derivsRK - RHS of ODE, fn defined somewhere\n",
    "        i - bias current\n",
    "        vN0,vN1,vN2 - voltage noise values at t=t, t=t+tau/2, t=t+tau\n",
    "    OUTPUTS\n",
    "        sout - new state vector [delta]\"\"\"\n",
    "    \n",
    "    half_tau = 0.5*tau\n",
    "    \n",
    "    F1 = derivsRK(s,t,i,vN0)                    # use current voltage noise\n",
    "    t_half = t + half_tau\n",
    "    stemp = s + half_tau*F1\n",
    "    \n",
    "    F2 = derivsRK(stemp,t_half,i,vN1)           # use half-tau step voltage noise\n",
    "    stemp = s + half_tau*F2\n",
    "    \n",
    "    F3 = derivsRK(stemp,t_half,i,vN1)           # use half-tau step voltage noise\n",
    "    t_full = t + tau\n",
    "    stemp = s + tau*F3\n",
    "    \n",
    "    F4 = derivsRK(stemp,t_full,i,vN2)           # use full-tau step voltage noise\n",
    "    sout = s + tau/6.*(F1 + F4 + 2.*(F2 + F3))\n",
    "    return sout   "
   ]
  },
  {
   "cell_type": "code",
   "execution_count": 3,
   "metadata": {},
   "outputs": [],
   "source": [
    "def snJJRK2(s,t,i,vN):\n",
    "    \"\"\"Returns RHS of ODE representing single Josephson junction\n",
    "    DEPNDENCIES\n",
    "        numpy as np\n",
    "    INPUTS\n",
    "        s - state vector [delta]\n",
    "        t - time\n",
    "        i - bias current\n",
    "        vN - voltage noise value\"\"\"\n",
    "\n",
    "    deriv = i - np.sin(s) + vN                  # d(del)/dtheta = v = i - sin(del) + vN\n",
    "    return(deriv)"
   ]
  },
  {
   "cell_type": "code",
   "execution_count": 4,
   "metadata": {},
   "outputs": [],
   "source": [
    "def snJJ2(nStep,tau,s,i,Gamma):\n",
    "    \"\"\"hanlder function for RK4 solver for noisy single Josephson junction\n",
    "    DEPENDENCIES\n",
    "        noisyrk4()\n",
    "        numpy as np\n",
    "    INPUTS\n",
    "        nStep - number of time steps to simulate\n",
    "        tau - time step size\n",
    "        s - initial state vector [delta]\n",
    "        i - bias current\n",
    "        Gamma - Johnson noise parameter\"\"\"\n",
    "    \n",
    "    var = 4*Gamma/tau                                   # var = 2*Gamma/tau\n",
    "    sd = var**.5                                        # std dev = var^.5, for gaussian noise\n",
    "    theta = 0                                           # set time theta to zero\n",
    "    vN = np.zeros(2*nStep+1)                            # crate holder for noise values\n",
    "    for N in range(2*nStep+1): \n",
    "        vN[N] = np.random.normal(0,sd)                  # fill noise values, two for each tau\n",
    "    X = np.zeros([3,nStep])                             # create output array\n",
    "    \n",
    "    X[0,0] = theta                                      # record initial time theta\n",
    "    X[1,0] = s                                          # record initial del, phase diff\n",
    "    X[2,0] = i - np.sin(s) + vN[0]                      # record initial voltage\n",
    "    \n",
    "    for iStep in range(1,nStep):                        # for loop through time\n",
    "        vN0 = vN[2*iStep-2]  \n",
    "        vN1 = vN[2*iStep-1]                               \n",
    "        vN2 = vN[2*iStep]                               # read off noise values to use\n",
    "\n",
    "        s = noisyrk4(s,theta,tau,snJJRK2,i,vN0,vN1,vN2) # call rk4 with snJJRK to get next state value\n",
    "        \n",
    "        X[0,iStep] = theta                              ##  theta  ##   record time theta to output array\n",
    "        X[1,iStep] = s                                  ##  delta  ##   record state, phase diff\n",
    "        X[2,iStep] = i - np.sin(s) + vN2                ## voltage ##   record v, i - sin(delta) + vn\n",
    "        theta = theta + tau                             # advance time for start of next cycle\n",
    "        \n",
    "    return(vN[0:-1:2],X)                                # return every other noise voltage value"
   ]
  }
 ],
 "metadata": {
  "kernelspec": {
   "display_name": "Python 3",
   "language": "python",
   "name": "python3"
  },
  "language_info": {
   "codemirror_mode": {
    "name": "ipython",
    "version": 3
   },
   "file_extension": ".py",
   "mimetype": "text/x-python",
   "name": "python",
   "nbconvert_exporter": "python",
   "pygments_lexer": "ipython3",
   "version": "3.6.4"
  }
 },
 "nbformat": 4,
 "nbformat_minor": 2
}
