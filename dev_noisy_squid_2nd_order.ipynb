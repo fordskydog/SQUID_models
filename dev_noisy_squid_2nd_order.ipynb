{
 "cells": [
  {
   "cell_type": "code",
   "execution_count": 1,
   "metadata": {},
   "outputs": [],
   "source": [
    "import numpy as np\n",
    "import matplotlib.pyplot as plt\n",
    "import numpy.fft as fft\n",
    "import scipy.signal as sig\n",
    "from mpl_toolkits.mplot3d import Axes3D\n",
    "from matplotlib import cm\n",
    "from scipy import interpolate\n",
    "\n",
    "#design output\n",
    "#v=0 critical current v stuff\n",
    "#time series for quiet squid\n",
    "#time series for d"
   ]
  },
  {
   "cell_type": "code",
   "execution_count": 2,
   "metadata": {},
   "outputs": [],
   "source": [
    "def noisyRK4(s,th,alpha,betaL,betaC,kappa,eta,rho,i,phia,tau,derivsRK,vn10,vn20,vn11,vn21,vn12,vn22):\n",
    "    \"\"\"\"\"\"\n",
    "    \n",
    "#   Runge-Kutta integrator 4th order\n",
    "# INputs\n",
    "#   x           -   current values of dependent variable\n",
    "#   t           -   independent variable usually time\n",
    "#   tau         -   step size usually time step\n",
    "#   derivsRK    -   RHS of the ODE, fn defined somewhere\n",
    "#   param       -   extra parameters passed to deriv fn\n",
    "# Output\n",
    "#   xout        -   new value of dependent variable after a step size tau\n",
    "\n",
    "    # noisySQUIDrk(s,th,alpha,beta,eta,rho,i,phia,vn1,vn2)\n",
    "    \n",
    "    half_tau = 0.5*tau\n",
    "    \n",
    "    F1 = derivsRK(s,th,alpha,betaL,betaC,kappa,eta,rho,i,phia,vn10,vn20)             # use current voltage noise\n",
    "    th_half = th + half_tau\n",
    "    stemp = s + half_tau*F1\n",
    "    \n",
    "    F2 = derivsRK(stemp,th_half,alpha,betaL,betaC,kappa,eta,rho,i,phia,vn11,vn21)    # use half-tau step voltage noise\n",
    "    stemp = s + half_tau*F2\n",
    "    \n",
    "    F3 = derivsRK(stemp,th_half,alpha,betaL,betaC,kappa,eta,rho,i,phia,vn11,vn21)    # use half-tau step voltage noise\n",
    "    th_full = th + tau\n",
    "    stemp = s + tau*F3\n",
    "    \n",
    "    F4 = derivsRK(stemp,th_full,alpha,betaL,betaC,kappa,eta,rho,i,phia,vn12,vn22)    # use full-tau step voltage noise\n",
    "    sout = s + tau/6.*(F1 + F4 + 2.*(F2 + F3))\n",
    "    return sout   "
   ]
  },
  {
   "cell_type": "code",
   "execution_count": 3,
   "metadata": {},
   "outputs": [],
   "source": [
    "def noisySQUIDrk(s,th,alpha,betaL,betaC,kappa,eta,rho,i,phia,vn1,vn2):\n",
    "    \n",
    "#    Returns RHS of RSJ ODE; used by rk4\n",
    "# Inputs\n",
    "#    s      -   State vector [theta,del1, del2, ddel1/dth, ddel2/dth, d^2del1/dth^2, d^2del2/dth^2]\n",
    "#    other parameters are scalar values\n",
    "# Ouputs\n",
    "#    deriv  -   Derivaties [ddel1/dth, ddel2/dth, d^2del1/dth^2, d^2del2/dth^2]\n",
    "\n",
    "    #alpha = param[0]; beta = param[1];\n",
    "    #eta = param[2]; rho = param[3]\n",
    "    #i = param[4]; phia = param[5]\n",
    "    #del1 = s[0] # del_1(theta)\n",
    "    #del2 = s[1] # del_2(theta)\n",
    "    j = (s[0] - s[1] - 2*np.pi*phia)/(np.pi*betaL) - eta*i/2\n",
    "    \n",
    "    dddel1 = (.5*i-j-(1-alpha)*np.sin(s[0])-(1-rho)*s[2])/((1-kappa)*betaC)\n",
    "    dddel2 = (.5*i+j-(1+alpha)*np.sin(s[1])-(1+rho)*s[3])/((1+kappa)*betaC)\n",
    "        \n",
    "    ddel1 = (.5*i-j-(1-alpha)*np.sin(s[0])-(1-kappa)*betaC*dddel1)/(1-rho) + vn1 # ddel1/dth\n",
    "    ddel2 = (.5*i+j-(1+alpha)*np.sin(s[1])-(1+kappa)*betaC*dddel2)/(1+rho) + vn2 # ddel2/dth\n",
    "    \n",
    "    deriv = np.array([ddel1,ddel2,dddel1,dddel2])\n",
    "    return(deriv)"
   ]
  },
  {
   "cell_type": "code",
   "execution_count": 12,
   "metadata": {},
   "outputs": [],
   "source": [
    "# Inputs\n",
    "#                0    1    2    3   4   5\n",
    "#     par = [alpha, betaL, betaC, eta, rho, i, phia]\n",
    "#     s = [del1(0),del2(0),ddel1(0),ddel2(0),dddel1(0),dddel2(0)]\n",
    "#     tau = time step size\n",
    "#     nStep = number of points\n",
    "# Output\n",
    "#           0     1    2   3   4           5           6\n",
    "#     X = [theta,del1,del2,j,ddel1/dtheta,ddel2/dtheta,v]\n",
    "def noisySQUID(nStep,tau,s,alpha,betaL,betaC,kappa,eta,rho,i,phia,Gamma):\n",
    "    # change state vector s to include all the derivs\n",
    "    # little s denotes a 1-d vector of, current values\n",
    "    # big S denotes the output array of all s, a 2-d array in time\n",
    "    ## NOISE ##\n",
    "    # set an appropriate variance based on Gamma.\n",
    "    # variance is twice normal because freq of noise\n",
    "    # is twice that of the sampling freq so that rk4 has\n",
    "    # a noise value to use at each half tau step\n",
    "    var = 4*Gamma/tau\n",
    "    sd = var**.5\n",
    "    \n",
    "    # make two time series of noise voltages\n",
    "    # lowercase designators are current values, uppercase are arrays in time\n",
    "    VN1 = np.zeros(2*nStep+1)\n",
    "    VN2 = np.zeros(2*nStep+1)\n",
    "    for ist in range(2*nStep+1):\n",
    "        VN1[ist] = np.random.normal(0,sd)\n",
    "        VN2[ist] = np.random.normal(0,sd)\n",
    "    \n",
    "    # DATA STRUCTURE\n",
    "    # S = [theta,del1,del2,ddel1,ddel2,dddel1,dddel2,j,v]\n",
    "    S = np.zeros([8,nStep],float)\n",
    "    # set initial conditions\n",
    "    theta = 0.\n",
    "    S[0,0] = theta\n",
    "    S[1,0] = s[0] # del1\n",
    "    S[2,0] = s[1] # del2\n",
    "    j = (s[0] - s[1] - 2*np.pi*phia)/(np.pi*betaL) - eta*i/2\n",
    "    S[3,0] = (.5*i-j-(1-alpha)*np.sin(s[0])-(1-kappa)*betaC*s[4])/(1-rho) # ddel1\n",
    "    S[4,0] = (.5*i+j-(1+alpha)*np.sin(s[1])-(1+kappa)*betaC*s[5])/(1+rho) # ddel2\n",
    "    S[5,0] = (.5*i-j-(1-alpha)*np.sin(s[0])-(1-rho)*s[2])/((1-kappa)*betaC) # dddel1\n",
    "    S[6,0] = (.5*i+j-(1+alpha)*np.sin(s[1])-(1+rho)*s[3])/((1+kappa)*betaC) # dddel2\n",
    "    \n",
    "    s = np.copy(S[1:5,0])\n",
    "    \n",
    "    for iStep in range(1,nStep):\n",
    "        vn10 = VN1[2*iStep-2]\n",
    "        vn20 = VN2[2*iStep-2]\n",
    "        vn11 = VN1[2*iStep-1]\n",
    "        vn21 = VN2[2*iStep-1]\n",
    "        vn12 = VN1[2*iStep]\n",
    "        vn22 = VN2[2*iStep]\n",
    "        \n",
    "        #   noisyRK4(s,th,alpha,beta,eta,rho,i,phia,tau,derivsRK,vn10,vn20,vn11,vn21,vn12,vn22)\n",
    "        s = noisyRK4(s,theta,alpha,betaL,betaC,kappa,eta,rho,i,phia,tau,noisySQUIDrk,vn10,vn20,vn11,vn21,vn12,vn22)\n",
    "        \n",
    "        S[0,iStep] = theta # time theta\n",
    "        S[1,iStep] = s[0] # del1\n",
    "        S[2,iStep] = s[1] # del2\n",
    "        S[3,iStep] = s[2] # ddel1\n",
    "        S[4,iStep] = s[3] # ddel2\n",
    "        \n",
    "        #S[5,iStep] =  # dddel1\n",
    "        #S[6,iStep] =  # dddel2\n",
    "        \n",
    "        theta = theta + tau\n",
    "        \n",
    "    # S[5,:] = \n",
    "    # S[6,:] = \n",
    "    S[6] = S[3]*(1+eta)/2  + S[4]*(1-eta)/2\n",
    "        \n",
    "    return(S)    "
   ]
  },
  {
   "cell_type": "code",
   "execution_count": 13,
   "metadata": {},
   "outputs": [],
   "source": [
    "# noisySQUID(nStep,tau,s,alpha,beta,eta,rho,i,phia,Gamma)\n",
    "nStep = 8000\n",
    "tau = 0.1\n",
    "s = np.array([0.,0.,0.,0.,0.,0.])\n",
    "alpha = 0.\n",
    "betaL = 1.\n",
    "betaC = 1.\n",
    "kappa = 0.\n",
    "eta = 0.\n",
    "rho = 0.\n",
    "i = 1.5\n",
    "phia = 0.5\n",
    "Gamma = 0.05"
   ]
  },
  {
   "cell_type": "code",
   "execution_count": 14,
   "metadata": {},
   "outputs": [],
   "source": [
    "# noisySQUID(nStep,tau,s,alpha,beta,eta,rho,i,phia,Gamma)\n",
    "SQ = noisySQUID(nStep,tau,s,alpha,betaL,betaC,kappa,eta,rho,i,phia,Gamma)"
   ]
  },
  {
   "cell_type": "code",
   "execution_count": 15,
   "metadata": {},
   "outputs": [
    {
     "data": {
      "text/plain": [
       "[<matplotlib.lines.Line2D at 0x1cfc541fda0>]"
      ]
     },
     "execution_count": 15,
     "metadata": {},
     "output_type": "execute_result"
    },
    {
     "data": {
      "image/png": "[encoded data removed]",
      "text/plain": [
       "<matplotlib.figure.Figure at 0x1cfc52599e8>"
      ]
     },
     "metadata": {},
     "output_type": "display_data"
    }
   ],
   "source": [
    "plt.plot(SQ[0,],SQ[6,])"
   ]
  },
  {
   "cell_type": "markdown",
   "metadata": {},
   "source": [
    "Need to make $i(\\bar{v},\\phi_a)$ curves at various levels of $\\phi_a = \\{0,0.25,0.5\\}$ with the prameters $\\beta=1.0$, $\\Gamma=0.05$ and $\\alpha=\\eta=\\rho=0$ to compare with Tesche-Clarke Fig 12(a).\n",
    "\n",
    "What we **really** want is to develop the transfer function, $\\bar{v}(i,\\phi_a)$. To match Fig 12(b), I will need to match the density of fluxes used to build curves, namely $\\phi_a=[0,0.5]$ and $i=[0,3.5]$.\n",
    "\n",
    "**Specifically** I need $i=\\{0.8,1.0,1.2,1.4,1.6,1.8,2.0,2.2,2.4,2.6,2.8,3.0\\}$ and $\\phi_a=\\{0,0.05,0.1,0.15,0.2,0.25,0.3,0.35,0.4,0.45,0.5\\}$\n",
    "\n",
    "I'd rather run a set of routines *once* that develops a surface, then do contor plots from different planes to get something to compare to Fig 12(a) and Fig 12(b), rather than doing two sets of runs, one sweeping $i$ and one sweeping $\\phi_a$."
   ]
  },
  {
   "cell_type": "code",
   "execution_count": null,
   "metadata": {},
   "outputs": [],
   "source": [
    "# noisySQUID(nStep,tau,s,alpha,beta,eta,rho,i,phia,Gamma)\n",
    "nStep = 64000\n",
    "tau = 0.1\n",
    "s = np.array([0.,0.])\n",
    "alpha = 0.\n",
    "beta = 1.\n",
    "eta = 0.\n",
    "rho = 0.\n",
    "Gamma = 0.05\n",
    "i = np.arange(0.8,3.1,0.1)#i = np.arange(1,2.51,0.075)#i = np.arange(1,2.55,0.05)#i = np.arange(0.8,3.1,0.1)\n",
    "phia = np.arange(0.,.55,.025)#phia = np.arange(.2,.31,.005)#phia = np.arange(0.,.5,.03125)#phia = np.arange(0.,.55,.025)"
   ]
  },
  {
   "cell_type": "code",
   "execution_count": null,
   "metadata": {},
   "outputs": [],
   "source": [
    "i.shape"
   ]
  },
  {
   "cell_type": "code",
   "execution_count": null,
   "metadata": {},
   "outputs": [],
   "source": [
    "%%time \n",
    "# cell magic timer to see how long this takes...\n",
    "m = len(i)\n",
    "n = len(phia)\n",
    "l = int(nStep*0.05)\n",
    "N = m*n\n",
    "vp = np.zeros([n,m]) # average v at fixed phia\n",
    "iv = np.zeros([m,n]) # average v at fixed i\n",
    "\n",
    "for j in range(0,m):\n",
    "    for k in range(0,n):\n",
    "        X = noisySQUID(nStep,tau,s,alpha,beta,eta,rho,i[j],phia[k],Gamma)\n",
    "        v = np.average(X[6,l:]) # average voltage\n",
    "        vp[k,j] = v \n",
    "        iv[j,k] = v"
   ]
  },
  {
   "cell_type": "code",
   "execution_count": null,
   "metadata": {},
   "outputs": [],
   "source": [
    "#np.savetxt(\"test.csv\", vp, delimiter=\",\")\n",
    "#np.savetxt(\"test.csv\", iv, delimiter=\",\")\n",
    "#vp = np.genfromtxt('vp.csv',delimiter=',')\n",
    "#iv = np.genfromtxt('iv.csv',delimiter=',')"
   ]
  },
  {
   "cell_type": "code",
   "execution_count": null,
   "metadata": {},
   "outputs": [],
   "source": [
    "fig = plt.figure(figsize=[9,6])\n",
    "\n",
    "ax1 = plt.subplot(1,2,1)\n",
    "ax1.plot(phia,vp[:,0],label=round(i[0],2))\n",
    "for h in range(1,len(vp[0,:])):\n",
    "    ax1.plot(phia,vp[:,h],label=round(i[h],2))\n",
    "ax1.set(title=r'$i(\\bar{v},\\phi_a)$',\n",
    "        xlabel=r'applied flux $\\phi_a$',\n",
    "        ylabel=r'average voltage $\\bar{v}$')\n",
    "ax1.legend(loc=6,title=r'$\\phi_a$')\n",
    "\n",
    "ax2 = plt.subplot(1,2,2)\n",
    "ax2.plot(vp[0,:],i,label=round(phia[0],3))\n",
    "for h in range(1,len(vp[:,0])):\n",
    "    ax2.plot(vp[h,:],i,label=round(phia[h],3))\n",
    "ax2.set(title=r'$\\phi_a(\\bar{v},i)$',\n",
    "        xlabel=r'average voltage $\\bar{v}$',\n",
    "        ylabel=r'bias current $i$')\n",
    "ax2.legend(title=r'$i$')\n",
    "fig.tight_layout()\n",
    "fig.savefig('test.jpg')"
   ]
  },
  {
   "cell_type": "code",
   "execution_count": null,
   "metadata": {},
   "outputs": [],
   "source": [
    "plt.plot(phia,vp[:,0],label=round(i[0],2))\n",
    "plt.plot(phia,vp[:,4],label=round(i[4],2))\n",
    "plt.plot(phia,vp[:,8],label=round(i[8],2))\n",
    "plt.plot(phia,vp[:,12],label=round(i[12],2))\n",
    "plt.plot(phia,vp[:,16],label=round(i[16],2))\n",
    "plt.plot(phia,vp[:,20],label=round(i[20],2))\n",
    "#for h in range(1,len(vp[0,:])):\n",
    "    #plt.plot(phia,vp[:,h],label=round(i[h],2))\n",
    "plt.title(r'$i(\\bar{v},\\phi_a)$')\n",
    "plt.xlabel(r'applied flux $\\phi_a$')\n",
    "plt.ylabel(r'average voltage $\\bar{v}$')\n",
    "plt.legend(loc=6)"
   ]
  },
  {
   "cell_type": "code",
   "execution_count": null,
   "metadata": {},
   "outputs": [],
   "source": [
    "plt.plot(vp[0,:],i,label=round(phia[0],3))\n",
    "plt.plot(vp[10,:],i,label=round(phia[10],3))\n",
    "plt.plot(vp[20,:],i,label=round(phia[20],3))\n",
    "#for h in range(1,len(vp[:,0])):\n",
    "    #plt.plot(vp[h,:],i,label=round(phia[h],3))\n",
    "plt.title(r'$\\phi_a(\\bar{v},i)$')\n",
    "plt.xlabel(r'average voltage $\\bar{v}$')\n",
    "plt.ylabel(r'bias current $i$')\n",
    "plt.legend()"
   ]
  },
  {
   "cell_type": "code",
   "execution_count": null,
   "metadata": {},
   "outputs": [],
   "source": [
    "fig = plt.figure()\n",
    "ax = fig.gca(projection='3d')\n",
    "x = np.copy(i)\n",
    "y = np.copy(phia)\n",
    "x, y = np.meshgrid(y, x)\n",
    "z = np.copy(iv)\n",
    "ax.plot_wireframe(x, y, z) # cmap='terrain'\n",
    "# note the xlabel and ylabel are reversed, this is correct\n",
    "ax.set(ylabel=r'bias current $i$',\n",
    "       xlabel=r'applied flux $\\phi_a$',\n",
    "       zlabel=r'average voltage $\\bar{v}$',\n",
    "      title = r'$\\bar{v}(i,\\phi_a)$; $\\Gamma=0.05$, $\\beta=1$, $\\alpha=\\eta=\\rho=0$')\n",
    "fig.tight_layout()\n",
    "fig.savefig('test.jpg')"
   ]
  },
  {
   "cell_type": "code",
   "execution_count": null,
   "metadata": {},
   "outputs": [],
   "source": [
    "## smooth and interpolate over a grid lx dense ##\n",
    "l = 1\n",
    "inew = np.arange(0.8,3.1,0.1/l)#inew = np.arange(1,2.55,0.05/l)#inew = np.arange(0.8,3.1,0.1/l)\n",
    "phianew = np.arange(0.,.55,.025/l)#phianew = np.arange(0.,.5,.03125/l)#phianew = np.arange(0.,.55,.025/l)\n",
    "\n",
    "x, y = np.meshgrid(phia,i)\n",
    "xnew, ynew = np.meshgrid(phianew,inew)\n",
    "z = np.copy(iv)\n",
    "tck = interpolate.bisplrep(y, x, iv, s=.00) # s = smoothing\n",
    "ivi = interpolate.bisplev(ynew[:,0], xnew[0,:], tck)\n",
    "ivi.shape"
   ]
  },
  {
   "cell_type": "code",
   "execution_count": null,
   "metadata": {},
   "outputs": [],
   "source": [
    "fig = plt.figure()\n",
    "ax = fig.gca(projection='3d')\n",
    "#x = np.copy(i)\n",
    "#y = np.copy(phia)\n",
    "#x, y = np.meshgrid(y, x)\n",
    "#z = np.copy(ivi)\n",
    "ax.plot_wireframe(xnew, ynew, ivi) # cmap='terrain'\n",
    "# note the xlabel and ylabel are reversed, this is correct\n",
    "ax.set(ylabel=r'bias current $i$',\n",
    "       xlabel=r'applied flux $\\phi_a$',\n",
    "       zlabel=r'average voltage $\\bar{v}$',\n",
    "      title = r'$\\bar{v}(i,\\phi_a)$ smoothed; $\\Gamma=0.05$, $\\beta=1$, $\\alpha=\\eta=\\rho=0$')\n",
    "fig.tight_layout()\n",
    "fig.savefig('test.jpg')"
   ]
  },
  {
   "cell_type": "code",
   "execution_count": null,
   "metadata": {},
   "outputs": [],
   "source": [
    "## Transfer function ##\n",
    "# need partial dvbar/dphia as a function of i\n",
    "# that is the transfer function\n",
    "\n",
    "# first get derivative of surface vbar(i,phia)\n",
    "# gradient() returns one surface of the value of the partial deriv\n",
    "# for each dependent dimension. So two sets for us: dvbar/di and \n",
    "# dvbar/dphia. We are interested in the second here.\n",
    "\n",
    "\n",
    "dv = np.gradient(ivi,inew,phianew) # bingo, dv[1] = dvbar(i,phia)/dphia\n",
    "                     # dv[0] = dvbar(i,phia)/di\n",
    "\n",
    "# Next we can peep the surface"
   ]
  },
  {
   "cell_type": "code",
   "execution_count": null,
   "metadata": {},
   "outputs": [],
   "source": [
    "fig = plt.figure()\n",
    "ax = fig.gca(projection='3d')\n",
    "x = np.copy(inew)\n",
    "y = np.copy(phianew)\n",
    "x, y = np.meshgrid(y, x)\n",
    "z = np.copy(dv[1]) # partial dvbar/dphia\n",
    "ax.plot_wireframe(x, y, z) # cmap='terrain'\n",
    "# note the xlabel and ylabel are reversed, this is correct\n",
    "ax.set(ylabel=r'bias current $i$',\n",
    "       xlabel=r'applied flux $\\phi_a$',\n",
    "       zlabel=r'transfer function $\\partial\\bar{v}/\\partial\\phi_a$',\n",
    "      title = r'$\\partial\\bar{v}(i,\\phi_a)/\\partial\\phi_a$ smoothed; $\\Gamma=0.05$, $\\beta=1$, $\\alpha=\\eta=\\rho=0$')\n",
    "ax.view_init(65,-60)\n",
    "fig.tight_layout()\n",
    "fig.savefig('test.jpg')\n",
    "\n",
    "# This looks correct to me"
   ]
  },
  {
   "cell_type": "code",
   "execution_count": null,
   "metadata": {},
   "outputs": [],
   "source": [
    "fig, ax = plt.subplots()\n",
    "dv1 = np.copy(dv[1])\n",
    "ax.plot(inew,dv1[:,int(5*l)],label=round(phianew[int(5*l)],3))\n",
    "ax.plot(inew,dv1[:,int(10*l)],label=round(phianew[int(10*l)],3))\n",
    "ax.plot(inew,dv1[:,int(-6*l)],label=round(phianew[int(-6*l)],3))\n",
    "ax.set(title=r'$\\partial \\bar{v}(i,\\phi_a)/\\partial\\phi_a$; $\\Gamma=0.05$, $\\beta=1$, $\\alpha=\\eta=\\rho=0$',\n",
    "      xlabel=r'bias current, $i$',\n",
    "      ylabel=r'transfer function, $(\\partial\\bar{v}/\\partial\\phi_a)_i$')\n",
    "ax.legend(title=r'$\\phi_a$')\n",
    "fig.tight_layout()"
   ]
  },
  {
   "cell_type": "code",
   "execution_count": null,
   "metadata": {},
   "outputs": [],
   "source": []
  }
 ],
 "metadata": {
  "kernelspec": {
   "display_name": "Python 3",
   "language": "python",
   "name": "python3"
  },
  "language_info": {
   "codemirror_mode": {
    "name": "ipython",
    "version": 3
   },
   "file_extension": ".py",
   "mimetype": "text/x-python",
   "name": "python",
   "nbconvert_exporter": "python",
   "pygments_lexer": "ipython3",
   "version": "3.6.4"
  }
 },
 "nbformat": 4,
 "nbformat_minor": 2
}
